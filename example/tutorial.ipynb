{
 "cells": [
  {
   "cell_type": "code",
   "execution_count": 1,
   "id": "72888bf4-9652-4d87-8630-3132f319fbf2",
   "metadata": {},
   "outputs": [],
   "source": [
    "import biobalm as balm\n",
    "import biodivine_aeon as aeon"
   ]
  },
  {
   "cell_type": "markdown",
   "id": "6ef3c59f-cabe-4668-b869-07e897518a6f",
   "metadata": {},
   "source": [
    "To create a succession diagram, you can use a `BooleanNetwork` object or any `.aeon`, `.bnet` and `.sbml` file. You can also use `SuccessionDiagramConfiguration` to change enforced resource limits and enable features such as debug logging (see API documentation)."
   ]
  },
  {
   "cell_type": "code",
   "execution_count": 2,
   "id": "411202a0-369f-4ef6-b918-017cf5a59974",
   "metadata": {},
   "outputs": [
    {
     "name": "stdout",
     "output_type": "stream",
     "text": [
      "Generated global Petri net with 211 nodes and 1374 edges.\n"
     ]
    }
   ],
   "source": [
    "sd = balm.SuccessionDiagram.from_file('../models/bbm-bnet-inputs-true/005.bnet')\n",
    "\n",
    "# The same result, but here we can use our own config object. \n",
    "# here, we are just using the default settings with debug logging turned on.\n",
    "bn = aeon.BooleanNetwork.from_file('../models/bbm-bnet-inputs-true/005.bnet')\n",
    "sd_config = balm.SuccessionDiagram.default_config()\n",
    "sd_config['debug'] = True\n",
    "sd = balm.SuccessionDiagram(bn, sd_config)"
   ]
  },
  {
   "cell_type": "markdown",
   "id": "c23997a9-dfda-403c-b83d-3a17e94c65e0",
   "metadata": {},
   "source": [
    "Initially, `SuccessionDiagram` is not expanded, i.e. it has no nodes and attractors are unknown:"
   ]
  },
  {
   "cell_type": "code",
   "execution_count": 3,
   "id": "17af8109-4120-4f72-b9bf-092709eb9f21",
   "metadata": {},
   "outputs": [
    {
     "name": "stdout",
     "output_type": "stream",
     "text": [
      "Succession Diagram with 1 nodes and depth 0.\n",
      "State order: v_ADD, v_ATM, v_ATR, v_BRCA1, v_CHK1, v_CHK2, v_CHKREC, v_DNAPK, v_DSB, v_FAN1, v_FANCD1N, v_FANCD2I, v_FANCJBRCA1, v_FANCM, v_FAcore, v_H2AX, v_HRR, v_ICL, v_KU, v_MRN, v_MUS81, v_NHEJ, v_PCNATLS, v_RAD51, v_USP1, v_XPF, v_p53, v_ssDNARPA\n",
      "\n",
      "Attractors in diagram:\n",
      "\n"
     ]
    }
   ],
   "source": [
    "print(sd.summary())"
   ]
  },
  {
   "cell_type": "markdown",
   "id": "7195a510-fd06-45d8-a23f-2a1d5e513567",
   "metadata": {},
   "source": [
    "The most simple way of interacting with the `SuccessionDiagram` is simply to build it automatically:"
   ]
  },
  {
   "cell_type": "code",
   "execution_count": 4,
   "id": "8ed8791e-43f2-4e8d-8de3-a76e72dbee58",
   "metadata": {},
   "outputs": [
    {
     "name": "stdout",
     "output_type": "stream",
     "text": [
      "Start SD expansion using block decomposition on BooleanNetwork(variables=28, regulations=122, explicit_parameters=0, implicit_parameters=0).\n",
      " > Start block expansion of a BFS level 1 with 1 node(s). Average number of fixed variables: 0.0/28\n",
      "[0] Computed percolated network with 28 variables (vs 28).\n",
      "[0] Expanding: 0 fixed vars.\n",
      "[0] Found sub-spaces: 1\n",
      " > [0] Computed blocks: [(28, 1)]\n",
      " > [0] Minimal blocks: [(28, 1)]\n",
      "Generated global Petri net with 211 nodes and 1374 edges.\n",
      "[0] Start computing attractor candidates.\n",
      "[0] Computed percolated network with 28 variables (vs 28).\n",
      "[0] > Percolated node NFVS contains 6 nodes (vs 6 in the root).\n",
      "[0] Generated Petri net restriction with 211 nodes and 1374 edges.\n",
      "[0] Initial retained set generated 4 candidates. Optimizing...\n",
      "[0] > Candidate states optimized to 3.\n",
      "[0] > Candidate states optimized to 0.\n",
      "[0] > Initial candidate set empty. Done.\n",
      " > [0] Found clean block with no MAAs (1): [1]\n",
      " > Start block expansion of a BFS level 2 with 1 node(s). Average number of fixed variables: 7.0/28\n",
      "[1] Computed percolated network with 21 variables (vs 28).\n",
      "[1] Expanding: 7 fixed vars.\n",
      "[1] Found sub-spaces: 2\n",
      " > [1] Computed blocks: [(3, 1), (17, 1)]\n",
      " > [1] Minimal blocks: [(3, 1)]\n",
      "Generated global Petri net with 12 nodes and 28 edges.\n",
      "[0] Start computing attractor candidates.\n",
      "[0] Computed percolated network with 3 variables (vs 3).\n",
      "[0] > Percolated node NFVS contains 2 nodes (vs 2 in the root).\n",
      "[0] Generated Petri net restriction with 12 nodes and 28 edges.\n",
      "[0] Initial retained set generated 1 candidates. Optimizing...\n",
      "[0] > Candidate states optimized to 0.\n",
      "[0] > Initial candidate set empty. Done.\n",
      " > [1] Found clean block with no MAAs (1): [2]\n",
      " > Start block expansion of a BFS level 3 with 1 node(s). Average number of fixed variables: 10.0/28\n",
      "[2] Computed percolated network with 18 variables (vs 28).\n",
      "[2] Expanding: 10 fixed vars.\n",
      "[2] Found sub-spaces: 1\n",
      " > [2] Computed blocks: [(14, 1)]\n",
      " > [2] Minimal blocks: [(14, 1)]\n",
      "Generated global Petri net with 89 nodes and 442 edges.\n",
      "[0] Start computing attractor candidates.\n",
      "[0] Computed percolated network with 14 variables (vs 14).\n",
      "[0] > Percolated node NFVS contains 3 nodes (vs 3 in the root).\n",
      "[0] Generated Petri net restriction with 89 nodes and 442 edges.\n",
      "[0] Initial retained set generated 1 candidates. Optimizing...\n",
      "[0] > Candidate states optimized to 0.\n",
      "[0] > Initial candidate set empty. Done.\n",
      " > [2] Found clean block with no MAAs (1): [4]\n",
      " > Start block expansion of a BFS level 4 with 1 node(s). Average number of fixed variables: 22.0/28\n",
      "[4] Computed percolated network with 6 variables (vs 28).\n",
      "[4] Expanding: 22 fixed vars.\n",
      "[4] Found sub-spaces: 1\n",
      " > [4] Computed blocks: [(3, 1)]\n",
      " > [4] Minimal blocks: [(3, 1)]\n",
      "Generated global Petri net with 14 nodes and 36 edges.\n",
      "[0] Start computing attractor candidates.\n",
      "[0] Computed percolated network with 3 variables (vs 3).\n",
      "[0] > Percolated node NFVS contains 1 nodes (vs 1 in the root).\n",
      "[0] Generated Petri net restriction with 14 nodes and 36 edges.\n",
      "[0] Initial retained set generated 1 candidates. Optimizing...\n",
      "[0] > Candidate states optimized to 0.\n",
      "[0] > Initial candidate set empty. Done.\n",
      " > [4] Found clean block with no MAAs (1): [5]\n",
      " > Start block expansion of a BFS level 5 with 1 node(s). Average number of fixed variables: 27.0/28\n",
      "[5] Computed percolated network with 1 variables (vs 28).\n",
      "[5] Expanding: 27 fixed vars.\n",
      "[5] Found minimum trap space: {'v_BRCA1': 0, 'v_CHK2': 0, 'v_HRR': 0, 'v_FANCD1N': 0, 'v_FANCM': 0, 'v_DNAPK': 0, 'v_H2AX': 0, 'v_ICL': 0, 'v_MRN': 0, 'v_p53': 0, 'v_RAD51': 0, 'v_FAcore': 0, 'v_KU': 0, 'v_FANCJBRCA1': 0, 'v_CHK1': 0, 'v_FANCD2I': 0, 'v_ATM': 0, 'v_MUS81': 0, 'v_ATR': 0, 'v_FAN1': 0, 'v_NHEJ': 0, 'v_DSB': 0, 'v_ssDNARPA': 0, 'v_USP1': 0, 'v_PCNATLS': 0, 'v_ADD': 0, 'v_XPF': 0}.\n",
      " > Block expansion terminated with 6 node(s).\n",
      "[3] Start computing attractor candidates.\n",
      "[3] Computed percolated network with 9 variables (vs 28).\n",
      "[3] > Percolated node NFVS contains 3 nodes (vs 6 in the root).\n",
      "[3] > The node has no children (i.e. it is minimal or unexpanded).\n",
      "[3] Generated Petri net restriction with 49 nodes and 200 edges.\n",
      "[3] Initial retained set generated 4 candidates. Optimizing...\n",
      "[3] > Candidate states optimized to 2.\n",
      "[3] > Attractor candidates from retained set: 2.\n",
      "[3] Start simulation minification...\n",
      "[3] > Start simulation with 2 states and simulation limit 1024.\n",
      "[3] > Candidates after simulation: 1\n",
      "[3] > Single candidate found in (pseudo) minimal trap space. Done.\n",
      "[5] Start computing attractor candidates.\n",
      "[5] > Percolated node NFVS contains 1 nodes (vs 6 in the root).\n",
      "[5] > The node has no children (i.e. it is minimal or unexpanded).\n",
      "[5] Generated Petri net restriction with 4 nodes and 4 edges.\n",
      "[5] > Single candidate found in (pseudo) minimal trap space. Done.\n"
     ]
    },
    {
     "name": "stderr",
     "output_type": "stream",
     "text": [
      "domRec ignored: No domain atoms found.\n"
     ]
    }
   ],
   "source": [
    "sd.build()"
   ]
  },
  {
   "cell_type": "markdown",
   "id": "9cd55780-86eb-4224-b451-04ec748dd2d5",
   "metadata": {},
   "source": [
    "This generates the graph structure of the succession diagram using the most optimal heuristics. At this point, we can query the succession diagram to obtain further information about the graph and about its attractors:"
   ]
  },
  {
   "cell_type": "code",
   "execution_count": 5,
   "id": "5cfad397-9917-4065-9645-0c1a81ec366c",
   "metadata": {},
   "outputs": [
    {
     "name": "stdout",
     "output_type": "stream",
     "text": [
      "SD size 6, root node is 0\n",
      "Successor(s) of node 0: [1]\n",
      "Subspace of node 0: {}\n",
      "Attractor seed states in node 0: []\n",
      "Successor(s) of node 1: [2, 3]\n",
      "Subspace of node 1: {'v_FAN1': 0, 'v_MUS81': 0, 'v_FANCM': 0, 'v_FAcore': 0, 'v_ICL': 0, 'v_XPF': 0, 'v_FANCD2I': 0}\n",
      "Attractor seed states in node 1: []\n",
      "Successor(s) of node 2: [4]\n",
      "Subspace of node 2: {'v_XPF': 0, 'v_ADD': 0, 'v_FAN1': 0, 'v_MUS81': 0, 'v_FANCM': 0, 'v_FAcore': 0, 'v_USP1': 0, 'v_FANCD2I': 0, 'v_ICL': 0, 'v_PCNATLS': 0}\n",
      "Attractor seed states in node 2: []\n",
      "Node 3 is not expanded. It can be ignored.\n",
      "Successor(s) of node 4: [5]\n",
      "Subspace of node 4: {'v_ssDNARPA': 0, 'v_ICL': 0, 'v_ADD': 0, 'v_XPF': 0, 'v_USP1': 0, 'v_FAcore': 0, 'v_NHEJ': 0, 'v_PCNATLS': 0, 'v_BRCA1': 0, 'v_RAD51': 0, 'v_FANCD2I': 0, 'v_HRR': 0, 'v_FAN1': 0, 'v_H2AX': 0, 'v_KU': 0, 'v_MRN': 0, 'v_FANCD1N': 0, 'v_FANCJBRCA1': 0, 'v_DSB': 0, 'v_DNAPK': 0, 'v_FANCM': 0, 'v_MUS81': 0}\n",
      "Attractor seed states in node 4: []\n",
      "Successor(s) of node 5: []\n",
      "Subspace of node 5: {'v_BRCA1': 0, 'v_CHK2': 0, 'v_HRR': 0, 'v_FANCD1N': 0, 'v_FANCM': 0, 'v_DNAPK': 0, 'v_H2AX': 0, 'v_ICL': 0, 'v_MRN': 0, 'v_p53': 0, 'v_RAD51': 0, 'v_FAcore': 0, 'v_KU': 0, 'v_FANCJBRCA1': 0, 'v_CHK1': 0, 'v_FANCD2I': 0, 'v_ATM': 0, 'v_MUS81': 0, 'v_ATR': 0, 'v_FAN1': 0, 'v_NHEJ': 0, 'v_DSB': 0, 'v_ssDNARPA': 0, 'v_USP1': 0, 'v_PCNATLS': 0, 'v_ADD': 0, 'v_XPF': 0}\n",
      "Attractor seed states in node 5: [{'v_CHKREC': 0, 'v_BRCA1': 0, 'v_CHK2': 0, 'v_HRR': 0, 'v_FANCD1N': 0, 'v_FANCM': 0, 'v_DNAPK': 0, 'v_H2AX': 0, 'v_ICL': 0, 'v_MRN': 0, 'v_p53': 0, 'v_RAD51': 0, 'v_FAcore': 0, 'v_KU': 0, 'v_FANCJBRCA1': 0, 'v_CHK1': 0, 'v_FANCD2I': 0, 'v_ATM': 0, 'v_MUS81': 0, 'v_ATR': 0, 'v_FAN1': 0, 'v_NHEJ': 0, 'v_DSB': 0, 'v_ssDNARPA': 0, 'v_USP1': 0, 'v_PCNATLS': 0, 'v_ADD': 0, 'v_XPF': 0}]\n"
     ]
    }
   ],
   "source": [
    "print(f\"SD size {len(sd)}, root node is {sd.root()}\")\n",
    "\n",
    "for id in sd.node_ids():\n",
    "    if not sd.node_data(id)['expanded']:\n",
    "        print(f\"Node {id} is not expanded. It can be ignored.\")\n",
    "        continue\n",
    "    print(f\"Successor(s) of node {id}: {sd.node_successors(id)}\")\n",
    "    print(f\"Subspace of node {id}: {sd.node_data(id)['space']}\")\n",
    "    print(f\"Attractor seed states in node {id}: {sd.node_attractor_seeds(id)}\")"
   ]
  },
  {
   "cell_type": "markdown",
   "id": "70c961b2-800e-419f-8f43-8f2d2a9428ef",
   "metadata": {},
   "source": [
    "We can also just look at the computed attractor seeds across the whole succession diagram:"
   ]
  },
  {
   "cell_type": "code",
   "execution_count": 6,
   "id": "3c99bc4a-ea36-4f30-b443-daccf083ea2b",
   "metadata": {},
   "outputs": [
    {
     "data": {
      "text/plain": [
       "{5: [{'v_CHKREC': 0,\n",
       "   'v_BRCA1': 0,\n",
       "   'v_CHK2': 0,\n",
       "   'v_HRR': 0,\n",
       "   'v_FANCD1N': 0,\n",
       "   'v_FANCM': 0,\n",
       "   'v_DNAPK': 0,\n",
       "   'v_H2AX': 0,\n",
       "   'v_ICL': 0,\n",
       "   'v_MRN': 0,\n",
       "   'v_p53': 0,\n",
       "   'v_RAD51': 0,\n",
       "   'v_FAcore': 0,\n",
       "   'v_KU': 0,\n",
       "   'v_FANCJBRCA1': 0,\n",
       "   'v_CHK1': 0,\n",
       "   'v_FANCD2I': 0,\n",
       "   'v_ATM': 0,\n",
       "   'v_MUS81': 0,\n",
       "   'v_ATR': 0,\n",
       "   'v_FAN1': 0,\n",
       "   'v_NHEJ': 0,\n",
       "   'v_DSB': 0,\n",
       "   'v_ssDNARPA': 0,\n",
       "   'v_USP1': 0,\n",
       "   'v_PCNATLS': 0,\n",
       "   'v_ADD': 0,\n",
       "   'v_XPF': 0}]}"
      ]
     },
     "execution_count": 6,
     "metadata": {},
     "output_type": "execute_result"
    }
   ],
   "source": [
    "sd.expanded_attractor_seeds()"
   ]
  },
  {
   "cell_type": "markdown",
   "id": "7fec0f6d-deeb-43e5-baad-1557d0fcd2ad",
   "metadata": {},
   "source": [
    "If the full attractor set is desired (i.e. all states of the attractor, not just the seed state), we can also use the symbolic representation from AEON to compute the full set of states. In this case, the only attractor is a cycle consisting of two vertices:"
   ]
  },
  {
   "cell_type": "code",
   "execution_count": 7,
   "id": "d5b88c16-ee67-42cd-9d36-19979e43ef52",
   "metadata": {},
   "outputs": [
    {
     "name": "stdout",
     "output_type": "stream",
     "text": [
      "[5] > Start symbolic seed state identification with 1 candidates and ColoredVertexSet(cardinality=1, symbolic_size=3) avoid states.\n",
      "[5] > Start symbolic reachability with 0 conflict variables and 1 other variables.\n",
      "[5] > Saturation(1) Added saturation variable. 0 conflict and 0 other variables remaining.\n",
      "[5] > Reachability completed with ColoredVertexSet(cardinality=2, symbolic_size=2).\n",
      "[5] > Finished identification with 1 seed states.\n"
     ]
    },
    {
     "data": {
      "text/plain": [
       "{5: [VertexSet(cardinality=2, symbolic_size=29)]}"
      ]
     },
     "execution_count": 7,
     "metadata": {},
     "output_type": "execute_result"
    }
   ],
   "source": [
    "sd.expanded_attractor_sets()"
   ]
  },
  {
   "cell_type": "markdown",
   "id": "2f8c4c66-c77f-4773-8f8c-78dfd8a0675f",
   "metadata": {},
   "source": [
    "Further details about advanced features are available in the API documentation. This mainly includes:\n",
    " * Different expansion methods (full expansion, targeted expansions)\n",
    " * Partial expansion (applicable to succession diagrams that are too large to explore fully)\n",
    " * All configuration options concerning resource limits.\n"
   ]
  },
  {
   "cell_type": "code",
   "execution_count": null,
   "id": "3abb0d65-78f3-420b-8da5-78f260ff74a9",
   "metadata": {},
   "outputs": [],
   "source": []
  }
 ],
 "metadata": {
  "kernelspec": {
   "display_name": "Python 3 (ipykernel)",
   "language": "python",
   "name": "python3"
  },
  "language_info": {
   "codemirror_mode": {
    "name": "ipython",
    "version": 3
   },
   "file_extension": ".py",
   "mimetype": "text/x-python",
   "name": "python",
   "nbconvert_exporter": "python",
   "pygments_lexer": "ipython3",
   "version": "3.12.8"
  }
 },
 "nbformat": 4,
 "nbformat_minor": 5
}
